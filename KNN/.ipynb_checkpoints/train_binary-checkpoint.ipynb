{
 "cells": [
  {
   "cell_type": "code",
   "execution_count": 10,
   "id": "eac0077e-8b4f-4562-910b-762b61ba2269",
   "metadata": {},
   "outputs": [
    {
     "ename": "ValueError",
     "evalue": "operands could not be broadcast together with shapes (19,) (20,) ",
     "output_type": "error",
     "traceback": [
      "\u001b[0;31m---------------------------------------------------------------------------\u001b[0m",
      "\u001b[0;31mValueError\u001b[0m                                Traceback (most recent call last)",
      "Cell \u001b[0;32mIn[10], line 30\u001b[0m\n\u001b[1;32m     27\u001b[0m clf\u001b[38;5;241m.\u001b[39mfit(X_train, y_train)\n\u001b[1;32m     29\u001b[0m \u001b[38;5;66;03m# Predict on the test set\u001b[39;00m\n\u001b[0;32m---> 30\u001b[0m predictions \u001b[38;5;241m=\u001b[39m clf\u001b[38;5;241m.\u001b[39mpredict(X_test)\n\u001b[1;32m     32\u001b[0m \u001b[38;5;66;03m# Calculate accuracy\u001b[39;00m\n\u001b[1;32m     33\u001b[0m accuracy \u001b[38;5;241m=\u001b[39m np\u001b[38;5;241m.\u001b[39msum(predictions \u001b[38;5;241m==\u001b[39m y_test) \u001b[38;5;241m/\u001b[39m \u001b[38;5;28mlen\u001b[39m(y_test)\n",
      "File \u001b[0;32m~/PythonLearning/KNN.py:17\u001b[0m, in \u001b[0;36mKNN.predict\u001b[0;34m(self, X)\u001b[0m\n\u001b[1;32m     16\u001b[0m \u001b[38;5;28;01mdef\u001b[39;00m \u001b[38;5;21mpredict\u001b[39m(\u001b[38;5;28mself\u001b[39m, X):\n\u001b[0;32m---> 17\u001b[0m     predictions \u001b[38;5;241m=\u001b[39m [\u001b[38;5;28mself\u001b[39m\u001b[38;5;241m.\u001b[39m_predict(x) \u001b[38;5;28;01mfor\u001b[39;00m x \u001b[38;5;129;01min\u001b[39;00m X]\n\u001b[1;32m     18\u001b[0m     \u001b[38;5;28;01mreturn\u001b[39;00m predictions\n",
      "File \u001b[0;32m~/PythonLearning/KNN.py:22\u001b[0m, in \u001b[0;36mKNN._predict\u001b[0;34m(self, x)\u001b[0m\n\u001b[1;32m     20\u001b[0m \u001b[38;5;28;01mdef\u001b[39;00m \u001b[38;5;21m_predict\u001b[39m(\u001b[38;5;28mself\u001b[39m, x):\n\u001b[1;32m     21\u001b[0m     \u001b[38;5;66;03m# compute the distance\u001b[39;00m\n\u001b[0;32m---> 22\u001b[0m     distances \u001b[38;5;241m=\u001b[39m [euclidean_distance(x, x_train) \u001b[38;5;28;01mfor\u001b[39;00m x_train \u001b[38;5;129;01min\u001b[39;00m \u001b[38;5;28mself\u001b[39m\u001b[38;5;241m.\u001b[39mX_train]\n\u001b[1;32m     24\u001b[0m     \u001b[38;5;66;03m# get the closest k\u001b[39;00m\n\u001b[1;32m     25\u001b[0m     k_indices \u001b[38;5;241m=\u001b[39m np\u001b[38;5;241m.\u001b[39margsort(distances)[:\u001b[38;5;28mself\u001b[39m\u001b[38;5;241m.\u001b[39mk]\n",
      "File \u001b[0;32m~/PythonLearning/KNN.py:5\u001b[0m, in \u001b[0;36meuclidean_distance\u001b[0;34m(x1, x2)\u001b[0m\n\u001b[1;32m      4\u001b[0m \u001b[38;5;28;01mdef\u001b[39;00m \u001b[38;5;21meuclidean_distance\u001b[39m(x1, x2):\n\u001b[0;32m----> 5\u001b[0m     distance \u001b[38;5;241m=\u001b[39m np\u001b[38;5;241m.\u001b[39msqrt(np\u001b[38;5;241m.\u001b[39msum((x1\u001b[38;5;241m-\u001b[39mx2)\u001b[38;5;241m*\u001b[39m\u001b[38;5;241m*\u001b[39m\u001b[38;5;241m2\u001b[39m))\n\u001b[1;32m      6\u001b[0m     \u001b[38;5;28;01mreturn\u001b[39;00m distance\n",
      "\u001b[0;31mValueError\u001b[0m: operands could not be broadcast together with shapes (19,) (20,) "
     ]
    }
   ],
   "source": [
    "import numpy as np\n",
    "import pandas as pd\n",
    "import matplotlib.pyplot as plt\n",
    "from sklearn.model_selection import train_test_split\n",
    "from KNN import KNN  # Assuming your KNN implementation is in KNN.py\n",
    "from matplotlib.colors import ListedColormap\n",
    "\n",
    "# Load the datasets\n",
    "train_df = pd.read_csv(\"binary_classification_train.csv\")\n",
    "test_df = pd.read_csv(\"binary_classification_test.csv\")\n",
    "\n",
    "# Remove the 'ID' column (assuming 'ID' is the first column)\n",
    "train_df = train_df.drop(columns=['ID'])\n",
    "test_df = test_df.drop(columns=['ID'])\n",
    "\n",
    "# Split the features and labels\n",
    "X_train = train_df.iloc[:, :-1].values  # All columns except the last\n",
    "y_train = train_df.iloc[:, -1].values   # The last column is the label\n",
    "\n",
    "X_test = test_df.iloc[:, :-1].values    # All columns except the last\n",
    "y_test = test_df.iloc[:, -1].values     # The last column is the label\n",
    "\n",
    "# Create KNN classifier instance\n",
    "clf = KNN(k=5)\n",
    "\n",
    "# Train the classifier\n",
    "clf.fit(X_train, y_train)\n",
    "\n",
    "# Predict on the test set\n",
    "predictions = clf.predict(X_test)\n",
    "\n",
    "# Calculate accuracy\n",
    "accuracy = np.sum(predictions == y_test) / len(y_test)\n",
    "print(f\"Accuracy on the test set: {accuracy * 100:.2f}%\")\n",
    "\n",
    "# Visualization (Assumes you have only two features for easy plotting)\n",
    "cmap = ListedColormap(['#FF0000', '#00FF00'])  # Red for class 0, Green for class 1\n",
    "\n",
    "plt.figure()\n",
    "\n",
    "# Plot training data\n",
    "plt.scatter(X_train[:, 0], X_train[:, 1], c=y_train, cmap=cmap, edgecolor='k', s=20, label=\"Training Data\")\n",
    "\n",
    "# Plot test predictions\n",
    "plt.scatter(X_test[:, 0], X_test[:, 1], c=predictions, cmap=cmap, edgecolor='k', s=50, marker='x', label=\"Test Predictions\")\n",
    "\n",
    "# Add labels and title\n",
    "plt.xlabel(\"Feature 1\")\n",
    "plt.ylabel(\"Feature 2\")\n",
    "plt.title(\"KNN Binary Classification\")\n",
    "plt.legend()\n",
    "plt.show()"
   ]
  },
  {
   "cell_type": "code",
   "execution_count": null,
   "id": "dfbce002-ce44-4e20-b559-8fb72357a8d0",
   "metadata": {},
   "outputs": [],
   "source": []
  }
 ],
 "metadata": {
  "kernelspec": {
   "display_name": "Python 3 (ipykernel)",
   "language": "python",
   "name": "python3"
  },
  "language_info": {
   "codemirror_mode": {
    "name": "ipython",
    "version": 3
   },
   "file_extension": ".py",
   "mimetype": "text/x-python",
   "name": "python",
   "nbconvert_exporter": "python",
   "pygments_lexer": "ipython3",
   "version": "3.12.7"
  }
 },
 "nbformat": 4,
 "nbformat_minor": 5
}
