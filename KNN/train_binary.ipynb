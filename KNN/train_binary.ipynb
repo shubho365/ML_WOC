{
 "cells": [
  {
   "cell_type": "code",
   "execution_count": 1,
   "id": "dfbce002-ce44-4e20-b559-8fb72357a8d0",
   "metadata": {},
   "outputs": [
    {
     "ename": "ModuleNotFoundError",
     "evalue": "No module named 'KNN'",
     "output_type": "error",
     "traceback": [
      "\u001b[0;31m---------------------------------------------------------------------------\u001b[0m",
      "\u001b[0;31mModuleNotFoundError\u001b[0m                       Traceback (most recent call last)",
      "Cell \u001b[0;32mIn[1], line 5\u001b[0m\n\u001b[1;32m      3\u001b[0m \u001b[38;5;28;01mimport\u001b[39;00m \u001b[38;5;21;01mmatplotlib\u001b[39;00m\u001b[38;5;21;01m.\u001b[39;00m\u001b[38;5;21;01mpyplot\u001b[39;00m \u001b[38;5;28;01mas\u001b[39;00m \u001b[38;5;21;01mplt\u001b[39;00m\n\u001b[1;32m      4\u001b[0m \u001b[38;5;28;01mfrom\u001b[39;00m \u001b[38;5;21;01mmatplotlib\u001b[39;00m\u001b[38;5;21;01m.\u001b[39;00m\u001b[38;5;21;01mcolors\u001b[39;00m \u001b[38;5;28;01mimport\u001b[39;00m ListedColormap\n\u001b[0;32m----> 5\u001b[0m \u001b[38;5;28;01mfrom\u001b[39;00m \u001b[38;5;21;01mKNN\u001b[39;00m \u001b[38;5;28;01mimport\u001b[39;00m KNN\n",
      "\u001b[0;31mModuleNotFoundError\u001b[0m: No module named 'KNN'"
     ]
    }
   ],
   "source": [
    "import numpy as np\n",
    "import pandas as pd\n",
    "import matplotlib.pyplot as plt\n",
    "from matplotlib.colors import ListedColormap\n",
    "from KNN import KNN"
   ]
  },
  {
   "cell_type": "code",
   "execution_count": null,
   "id": "175d1621-99f4-4bd2-bc65-78771b43b7ab",
   "metadata": {},
   "outputs": [],
   "source": [
    "# Define the colormap for visualization (optional)\n",
    "cmap = ListedColormap(['#FF0000', '#00FF00'])"
   ]
  },
  {
   "cell_type": "code",
   "execution_count": null,
   "id": "85be9a07-f22e-4e69-a242-91cc4ebd9c29",
   "metadata": {},
   "outputs": [],
   "source": [
    "# Load the training data\n",
    "train_data = pd.read_csv(\"binary_classification_train.csv\")  # Replace with your training file name\n",
    "# For training data\n",
    "X_train = train_data.iloc[:, 1:-1].values  # Skip the first column (ID) and select up to the second last column (features)\n",
    "y_train = train_data.iloc[:, -1].values    # Select the last column (Class)\n"
   ]
  },
  {
   "cell_type": "code",
   "execution_count": null,
   "id": "5c5d4e6b-31c4-4757-8a0b-790b1a59cb5e",
   "metadata": {},
   "outputs": [],
   "source": [
    "# Load the test data\n",
    "test_data = pd.read_csv(\"binary_classification_test.csv\")  # Replace with your test file name\n",
    "\n",
    "# For test data\n",
    "X_test = test_data.iloc[:, 1:].values  # Skip the first column (ID), include all features\n",
    "y_test = test_data.iloc[:, -1].values"
   ]
  },
  {
   "cell_type": "code",
   "execution_count": null,
   "id": "fdc2a277-a225-4b3b-b6f5-8d6266f6c392",
   "metadata": {},
   "outputs": [],
   "source": [
    "# Subset for faster testing\n",
    "X_train_small = X_train[:1000]  # Use 1000 training samples\n",
    "y_train_small = y_train[:1000]  # Corresponding labels\n",
    "X_test_small = X_test[:100]    # Use 100 test samples\n",
    "y_test_small = y_test[:100]    # Corresponding labels for the 100 test samples\n",
    "\n",
    "# Create and train the KNN classifier\n",
    "clf = KNN(k=5)\n",
    "clf.fit(X_train_small, y_train_small)\n",
    "\n",
    "# Predict using the smaller test set\n",
    "predictions = clf.predict(X_test_small)\n"
   ]
  },
  {
   "cell_type": "code",
   "execution_count": null,
   "id": "0754e253-09b0-432a-9d7a-25f9ea787dd3",
   "metadata": {},
   "outputs": [],
   "source": [
    "# Print predictions\n",
    "print(\"Predictions:\", predictions)"
   ]
  },
  {
   "cell_type": "code",
   "execution_count": null,
   "id": "2c8817c3-0647-458b-ba58-c613e407d31e",
   "metadata": {},
   "outputs": [],
   "source": [
    "# Use the sliced arrays directly since they're already NumPy arrays\n",
    "X_train_values = X_train[:1000]  # Take the first 1000 rows of training data\n",
    "X_test_values = X_test_small  # Use small subset of test data\n",
    "\n",
    "# Optional: Visualize the results for two selected features (Feature 1 and Feature 2)\n",
    "plt.figure()\n",
    "\n",
    "# Plot training data\n",
    "plt.scatter(X_train_values[:, 0], X_train_values[:, 1], c=y_train[:1000], cmap=cmap, edgecolor='k', s=20, label=\"Training Data\")\n",
    "\n",
    "# Plot test predictions\n",
    "plt.scatter(X_test_values[:, 0], X_test_values[:, 1], c=predictions, cmap=cmap, edgecolor='k', s=50, marker='x', label=\"Test Predictions\")\n",
    "\n",
    "# Add labels and title\n",
    "plt.xlabel(\"Feature 1\")\n",
    "plt.ylabel(\"Feature 2\")\n",
    "plt.title(\"KNN Classification\")\n",
    "plt.legend()\n",
    "plt.show()"
   ]
  }
 ],
 "metadata": {
  "kernelspec": {
   "display_name": "Python 3 (ipykernel)",
   "language": "python",
   "name": "python3"
  },
  "language_info": {
   "codemirror_mode": {
    "name": "ipython",
    "version": 3
   },
   "file_extension": ".py",
   "mimetype": "text/x-python",
   "name": "python",
   "nbconvert_exporter": "python",
   "pygments_lexer": "ipython3",
   "version": "3.12.7"
  }
 },
 "nbformat": 4,
 "nbformat_minor": 5
}
